{
 "cells": [
  {
   "cell_type": "markdown",
   "metadata": {},
   "source": [
    "## Assignment No 3 "
   ]
  },
  {
   "cell_type": "markdown",
   "metadata": {},
   "source": [
    "#####  Implement List comprehensions to produce the following lists.\n",
    "  - Write List comprehensions to produce the following Lists\n",
    "  - ['x', 'xx', 'xxx', 'xxxx', 'y', 'yy', 'yyy', 'yyyy', 'z', 'zz', 'zzz', 'zzzz']\n",
    "   -  ['x', 'y', 'z', 'xx', 'yy', 'zz', 'xxx', 'yyy', 'zzz', 'xxxx', 'yyyy', 'zzzz']\n",
    "    - [[2], [3], [4], [3], [4], [5], [4], [5], [6]] \n",
    "    - [[2, 3, 4, 5], [3, 4, 5, 6],\n",
    "    - [4, 5, 6, 7], [5, 6, 7, 8]]\n",
    "    - [(1, 1), (2, 1), (3, 1), (1, 2), (2, 2), (3, 2), (1, 3), (2, 3), (3, 3)]\n",
    "  "
   ]
  },
  {
   "cell_type": "code",
   "execution_count": 3,
   "metadata": {},
   "outputs": [
    {
     "name": "stdout",
     "output_type": "stream",
     "text": [
      "output ['x', 'xx', 'xxx', 'y', 'yy', 'yyy', 'Z', 'ZZ', 'ZZZ']\n"
     ]
    }
   ],
   "source": [
    "input_list = [\"x\" ,\"y\" ,\"Z\"]\n",
    "output = [item*num for item in input_list for num in range(1,4)]\n",
    "print(\"output\" , output)"
   ]
  },
  {
   "cell_type": "code",
   "execution_count": 6,
   "metadata": {},
   "outputs": [
    {
     "name": "stdout",
     "output_type": "stream",
     "text": [
      "output ['x', 'y', 'Z', 'xx', 'yy', 'ZZ', 'xxx', 'yyy', 'ZZZ', 'xxxx', 'yyyy', 'ZZZZ']\n"
     ]
    }
   ],
   "source": [
    "input_list = [\"x\" ,\"y\" ,\"Z\"]\n",
    "output =[item*num for num in range(1,5) for item in input_list]\n",
    "print(\"output\" , output)"
   ]
  },
  {
   "cell_type": "code",
   "execution_count": 25,
   "metadata": {},
   "outputs": [
    {
     "name": "stdout",
     "output_type": "stream",
     "text": [
      "output [[2], [3], [4], [3], [4], [5], [4], [5], [6]]\n"
     ]
    }
   ],
   "source": [
    "#### [[2], [3], [4], [3], [4], [5], [4], [5], [6]]\n",
    "input_list = [2,3,4]\n",
    "output = [[item +num] for item in input_list for num in range (0,3)]\n",
    "print(\"output\" , output)\n"
   ]
  },
  {
   "cell_type": "code",
   "execution_count": 24,
   "metadata": {},
   "outputs": [
    {
     "name": "stdout",
     "output_type": "stream",
     "text": [
      "output [[2, 3, 4, 5], [3, 4, 5, 6]]\n"
     ]
    }
   ],
   "source": [
    "#### [2, 3, 4, 5], [3, 4, 5, 6]\n",
    "input_list = [2,3,4,5]\n",
    "output = [ [ x+i for x in input_list ]  for i in range(0,2)  ]\n",
    "print(\"output\" , output)\n"
   ]
  },
  {
   "cell_type": "code",
   "execution_count": 31,
   "metadata": {},
   "outputs": [
    {
     "name": "stdout",
     "output_type": "stream",
     "text": [
      "output [[4, 5, 6, 7], [5, 6, 7, 8]]\n"
     ]
    }
   ],
   "source": [
    "###### [4, 5, 6, 7], [5, 6, 7, 8]\n",
    "input_list = [4, 5, 6, 7]\n",
    "output = [  [x +i  for x in input_list] for i in range(0,2 ) ]\n",
    "print(\"output\" , output)\n",
    "\n"
   ]
  },
  {
   "cell_type": "code",
   "execution_count": 32,
   "metadata": {},
   "outputs": [
    {
     "name": "stdout",
     "output_type": "stream",
     "text": [
      "output [[2, 3, 4, 5], [3, 4, 5, 6], [4, 5, 6, 7], [5, 6, 7, 8]]\n"
     ]
    }
   ],
   "source": [
    "#### [ [2, 3, 4, 5], [3, 4, 5, 6] ,  [4, 5, 6, 7], [5, 6, 7, 8]]\n",
    "input_list = [2, 3, 4, 5]\n",
    "output = [ [ x+i for x in input_list ]  for i in range(0,4)  ]\n",
    "print(\"output\" , output)"
   ]
  },
  {
   "cell_type": "code",
   "execution_count": 36,
   "metadata": {},
   "outputs": [
    {
     "data": {
      "text/plain": [
       "[(1, 1), (1, 2), (1, 3), (2, 1), (2, 2), (2, 3), (3, 1), (3, 2), (3, 3)]"
      ]
     },
     "execution_count": 36,
     "metadata": {},
     "output_type": "execute_result"
    }
   ],
   "source": [
    "######  [(1, 1), (1, 2), (1, 3), (2, 1), (2, 2), (2, 3), (3, 1), (3, 2), (3, 3)]\n",
    "input_list = [1,2,3]\n",
    "[ (x,i) for x in input_list for i in range(1,4)]"
   ]
  },
  {
   "cell_type": "code",
   "execution_count": 37,
   "metadata": {},
   "outputs": [
    {
     "data": {
      "text/plain": [
       "[(1, 1), (1, 2), (1, 3), (2, 1), (2, 2), (2, 3), (3, 1), (3, 2), (3, 3)]"
      ]
     },
     "execution_count": 37,
     "metadata": {},
     "output_type": "execute_result"
    }
   ],
   "source": [
    "##### [(1, 1), (2, 1), (3, 1), (1, 2), (2, 2), (3, 2), (1, 3), (2, 3), (3, 3)]\n",
    "input_list = [1,2,3]\n",
    "[(x,i)  for x in input_list for i in input_list]"
   ]
  },
  {
   "cell_type": "code",
   "execution_count": null,
   "metadata": {},
   "outputs": [],
   "source": []
  }
 ],
 "metadata": {
  "kernelspec": {
   "display_name": "Python 3",
   "language": "python",
   "name": "python3"
  },
  "language_info": {
   "codemirror_mode": {
    "name": "ipython",
    "version": 3
   },
   "file_extension": ".py",
   "mimetype": "text/x-python",
   "name": "python",
   "nbconvert_exporter": "python",
   "pygments_lexer": "ipython3",
   "version": "3.7.4"
  },
  "toc": {
   "base_numbering": 1,
   "nav_menu": {},
   "number_sections": true,
   "sideBar": true,
   "skip_h1_title": false,
   "title_cell": "Table of Contents",
   "title_sidebar": "Contents",
   "toc_cell": false,
   "toc_position": {},
   "toc_section_display": true,
   "toc_window_display": false
  }
 },
 "nbformat": 4,
 "nbformat_minor": 2
}
