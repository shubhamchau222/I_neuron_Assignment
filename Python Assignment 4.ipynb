{
 "cells": [
  {
   "cell_type": "markdown",
   "metadata": {},
   "source": [
    "## question \n",
    " - Write a function filter_long_words() that takes a list of words   and an integer n and return the list of words that are longer than n."
   ]
  },
  {
   "cell_type": "code",
   "execution_count": 22,
   "metadata": {},
   "outputs": [],
   "source": [
    "def  filter_long_words(word_list ,integer_number ):\n",
    "    ''' word_list  : List of the words must contains only the string \n",
    "      integer_numbern : must be in integer\n",
    "    '''\n",
    "    longer_words = []\n",
    "    for i in word_list:\n",
    "        try : \n",
    "            if len (i)  > int(integer_number) :\n",
    "                longer_words.append(i)\n",
    "        except Exception as e :\n",
    "            print(e)\n",
    "            print(\"please , use list having only string\")                           \n",
    "    return longer_words"
   ]
  },
  {
   "cell_type": "code",
   "execution_count": 23,
   "metadata": {},
   "outputs": [
    {
     "name": "stdout",
     "output_type": "stream",
     "text": [
      "object of type 'int' has no len()\n",
      "please , use list having only string\n",
      "['python', 'data science', 'machine', 'learning', 'learning']\n"
     ]
    }
   ],
   "source": [
    "l = [\"hello\" , \"python\" , \"data science\" , \"machine\" ,\"learning\" ,\"deep\" , \"learning\" , \"a\" , \"ab\",\"abc\" , 2]\n",
    "num = 5\n",
    "# find the word having length more than 5 \n",
    "print(filter_long_words(l , num))"
   ]
  },
  {
   "cell_type": "markdown",
   "metadata": {},
   "source": [
    "## Question  \n",
    "  - Write a Python program using function concept that maps list of words into a list of integers\n",
    "  - representing the lengths of the corresponding words.\n",
    "  - Hint: If a list [ ab,cde,erty] is passed on to the python function output should come as [2,3,4]\n",
    "  - Here 2,3 and 4 are the lengths of the words in the list."
   ]
  },
  {
   "cell_type": "code",
   "execution_count": 46,
   "metadata": {},
   "outputs": [],
   "source": [
    "def mapp(list_):\n",
    "    output =[]\n",
    "    if type(list_) == list :\n",
    "        for i in list_ :\n",
    "            output.append (len(str(i)) )\n",
    "    elif type(list_) == str:\n",
    "        output.append(len(list_))      \n",
    "        \n",
    "    print(output)\n"
   ]
  },
  {
   "cell_type": "code",
   "execution_count": 54,
   "metadata": {},
   "outputs": [
    {
     "name": "stdout",
     "output_type": "stream",
     "text": [
      "[5, 6, 12, 7, 8, 4, 8, 1, 2, 3, 1]\n"
     ]
    }
   ],
   "source": [
    "l= [\"hello\" , \"python\" , \"data science\" , \"machine\" ,\"learning\" ,\"deep\" , \"learning\" , \"a\" , \"ab\",\"abc\" , 2]   \n",
    "mapp(l)"
   ]
  },
  {
   "cell_type": "code",
   "execution_count": 55,
   "metadata": {},
   "outputs": [
    {
     "name": "stdout",
     "output_type": "stream",
     "text": [
      "[26]\n"
     ]
    }
   ],
   "source": [
    "mapp(\"Thanks for visiting my git\")"
   ]
  },
  {
   "cell_type": "markdown",
   "metadata": {},
   "source": [
    "## Question \n",
    "   - 2.2 Write a Python function which takes a character (i.e. a string of length 1) and returns True if it is a vowel, False otherwise.\n",
    "\n"
   ]
  },
  {
   "cell_type": "code",
   "execution_count": 56,
   "metadata": {},
   "outputs": [],
   "source": [
    "def is_vowel(word):\n",
    "    vowels = [\"a\",\"e\",\"o\", \"i\",\"u\"]\n",
    "    if word.lower() in vowels:\n",
    "        return True\n",
    "    else :\n",
    "        return False "
   ]
  },
  {
   "cell_type": "code",
   "execution_count": 63,
   "metadata": {},
   "outputs": [
    {
     "name": "stdout",
     "output_type": "stream",
     "text": [
      "A is vowel ? == >  True\n",
      "b is vowel ? == >  False\n",
      "e is vowel ? == >  True\n",
      "c is vowel ? == >  False\n",
      "E is vowel ? == >  True\n",
      "U is vowel ? == >  True\n"
     ]
    }
   ],
   "source": [
    "print (\"A is vowel ? == > \" , is_vowel(\"A\") ) \n",
    "print (\"b is vowel ? == > \" , is_vowel(\"b\") ) \n",
    "print (\"e is vowel ? == > \" , is_vowel(\"e\") ) \n",
    "print (\"c is vowel ? == > \" , is_vowel(\"c\") ) \n",
    "print (\"E is vowel ? == > \" , is_vowel(\"E\") ) \n",
    "print (\"U is vowel ? == > \" , is_vowel(\"U\") ) "
   ]
  }
 ],
 "metadata": {
  "kernelspec": {
   "display_name": "Python 3",
   "language": "python",
   "name": "python3"
  },
  "language_info": {
   "codemirror_mode": {
    "name": "ipython",
    "version": 3
   },
   "file_extension": ".py",
   "mimetype": "text/x-python",
   "name": "python",
   "nbconvert_exporter": "python",
   "pygments_lexer": "ipython3",
   "version": "3.7.4"
  },
  "toc": {
   "base_numbering": 1,
   "nav_menu": {},
   "number_sections": true,
   "sideBar": true,
   "skip_h1_title": false,
   "title_cell": "Table of Contents",
   "title_sidebar": "Contents",
   "toc_cell": false,
   "toc_position": {},
   "toc_section_display": true,
   "toc_window_display": false
  }
 },
 "nbformat": 4,
 "nbformat_minor": 2
}
